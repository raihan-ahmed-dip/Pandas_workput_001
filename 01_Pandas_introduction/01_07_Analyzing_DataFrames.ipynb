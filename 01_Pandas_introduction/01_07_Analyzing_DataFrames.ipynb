{
 "cells": [
  {
   "attachments": {},
   "cell_type": "markdown",
   "metadata": {},
   "source": [
    "# Pandas - Analyzing DataFrames"
   ]
  },
  {
   "cell_type": "code",
   "execution_count": 1,
   "metadata": {},
   "outputs": [],
   "source": [
    "import pandas as pd"
   ]
  },
  {
   "attachments": {},
   "cell_type": "markdown",
   "metadata": {},
   "source": [
    "## Viewing the Data"
   ]
  },
  {
   "attachments": {},
   "cell_type": "markdown",
   "metadata": {},
   "source": [
    "One of the most used method for getting a quick overview of the DataFrame, is the head() method.\n",
    "\n",
    "The head() method returns the headers and a specified number of rows, starting from the top."
   ]
  },
  {
   "cell_type": "code",
   "execution_count": 2,
   "metadata": {},
   "outputs": [
    {
     "name": "stdout",
     "output_type": "stream",
     "text": [
      "   Duration  Pulse  Maxpulse  Calories\n",
      "0        60    110       130     409.1\n",
      "1        60    117       145     479.0\n",
      "2        60    103       135     340.0\n",
      "3        45    109       175     282.4\n",
      "4        45    117       148     406.0\n",
      "5        60    102       127     300.0\n",
      "6        60    110       136     374.0\n",
      "7        45    104       134     253.3\n",
      "8        30    109       133     195.1\n",
      "9        60     98       124     269.0\n"
     ]
    }
   ],
   "source": [
    "# Get a quick overview by printing the first 10 rows of the DataFrame\n",
    "\n",
    "df1 = pd.read_csv('data.csv')\n",
    "print(df1.head(10))"
   ]
  },
  {
   "attachments": {},
   "cell_type": "markdown",
   "metadata": {},
   "source": [
    "Note: If the number of rows is not specified, the head() method will return the top 5 rows"
   ]
  },
  {
   "cell_type": "code",
   "execution_count": 3,
   "metadata": {},
   "outputs": [
    {
     "name": "stdout",
     "output_type": "stream",
     "text": [
      "   Duration  Pulse  Maxpulse  Calories\n",
      "0        60    110       130     409.1\n",
      "1        60    117       145     479.0\n",
      "2        60    103       135     340.0\n",
      "3        45    109       175     282.4\n",
      "4        45    117       148     406.0\n"
     ]
    }
   ],
   "source": [
    "# Print the first 5 rows of the DataFrame\n",
    "\n",
    "print(df1.head())"
   ]
  },
  {
   "attachments": {},
   "cell_type": "markdown",
   "metadata": {},
   "source": [
    "There is also a tail() method for viewing the last rows of the DataFrame.\n",
    "\n",
    "The tail() method returns the headers and a specified number of rows, starting from the bottom."
   ]
  },
  {
   "cell_type": "code",
   "execution_count": 4,
   "metadata": {},
   "outputs": [
    {
     "name": "stdout",
     "output_type": "stream",
     "text": [
      "     Duration  Pulse  Maxpulse  Calories\n",
      "164        60    105       140     290.8\n",
      "165        60    110       145     300.0\n",
      "166        60    115       145     310.2\n",
      "167        75    120       150     320.4\n",
      "168        75    125       150     330.4\n"
     ]
    }
   ],
   "source": [
    "# Print the last 5 rows of the DataFrame\n",
    "\n",
    "print(df1.tail())"
   ]
  },
  {
   "attachments": {},
   "cell_type": "markdown",
   "metadata": {},
   "source": [
    "## Info About the Data"
   ]
  },
  {
   "attachments": {},
   "cell_type": "markdown",
   "metadata": {},
   "source": [
    "The DataFrames object has a method called info(), that gives you more information about the data set."
   ]
  },
  {
   "cell_type": "code",
   "execution_count": 5,
   "metadata": {},
   "outputs": [
    {
     "name": "stdout",
     "output_type": "stream",
     "text": [
      "<class 'pandas.core.frame.DataFrame'>\n",
      "RangeIndex: 169 entries, 0 to 168\n",
      "Data columns (total 4 columns):\n",
      " #   Column    Non-Null Count  Dtype  \n",
      "---  ------    --------------  -----  \n",
      " 0   Duration  169 non-null    int64  \n",
      " 1   Pulse     169 non-null    int64  \n",
      " 2   Maxpulse  169 non-null    int64  \n",
      " 3   Calories  164 non-null    float64\n",
      "dtypes: float64(1), int64(3)\n",
      "memory usage: 5.4 KB\n",
      "None\n"
     ]
    }
   ],
   "source": [
    "# Print information about the data\n",
    "\n",
    "print(df1.info())"
   ]
  },
  {
   "attachments": {},
   "cell_type": "markdown",
   "metadata": {},
   "source": [
    "## Null Values"
   ]
  },
  {
   "attachments": {},
   "cell_type": "markdown",
   "metadata": {},
   "source": [
    "The info() method also tells us how many Non-Null values there are present in each column, and in our data set it seems like there are 164 of 169 Non-Null values in the \"Calories\" column.\n",
    "\n",
    "Which means that there are 5 rows with no value at all, in the \"Calories\" column, for whatever reason.\n",
    "\n",
    "Empty values, or Null values, can be bad when analyzing data, and you should consider removing rows with empty values. This is a step towards what is called cleaning data, and you will learn more about that in the next chapters."
   ]
  }
 ],
 "metadata": {
  "kernelspec": {
   "display_name": ".venv",
   "language": "python",
   "name": "python3"
  },
  "language_info": {
   "codemirror_mode": {
    "name": "ipython",
    "version": 3
   },
   "file_extension": ".py",
   "mimetype": "text/x-python",
   "name": "python",
   "nbconvert_exporter": "python",
   "pygments_lexer": "ipython3",
   "version": "3.9.5"
  },
  "orig_nbformat": 4
 },
 "nbformat": 4,
 "nbformat_minor": 2
}
